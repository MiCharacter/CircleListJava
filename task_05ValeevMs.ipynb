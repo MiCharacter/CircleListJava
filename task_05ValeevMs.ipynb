{
  "nbformat": 4,
  "nbformat_minor": 0,
  "metadata": {
    "kernelspec": {
      "display_name": "Python 3",
      "language": "python",
      "name": "python3"
    },
    "language_info": {
      "codemirror_mode": {
        "name": "ipython",
        "version": 3
      },
      "file_extension": ".py",
      "mimetype": "text/x-python",
      "name": "python",
      "nbconvert_exporter": "python",
      "pygments_lexer": "ipython3",
      "version": "3.8.3"
    },
    "colab": {
      "name": "task_05.ipynb",
      "provenance": []
    }
  },
  "cells": [
    {
      "cell_type": "markdown",
      "metadata": {
        "id": "e1tRpxq5P_Oc"
      },
      "source": [
        "# Задания для самостоятельного выполнения (блок 5, циклы и обработка списков)"
      ]
    },
    {
      "cell_type": "markdown",
      "metadata": {
        "id": "z8R3aCRJP_Oh"
      },
      "source": [
        "<a href=\"https://colab.research.google.com/github/dm-fedorov/python_basic/blob/master/task_05.ipynb\" target=\"_blank\"><img align=\"left\" src=\"https://colab.research.google.com/assets/colab-badge.svg\" alt=\"Open in Colab\" title=\"Open and Execute in Google Colaboratory\"></a>"
      ]
    },
    {
      "cell_type": "markdown",
      "metadata": {
        "id": "eqEyRcjhP_Oh"
      },
      "source": [
        "## Задание 1\n",
        "\n",
        "Напишите программу, которая проверяет, являются ли все элементы списка палиндромами (строки, которые читаются слева направо и справа налево одинаково).\n",
        "\n",
        "Пример.\n",
        "\n",
        "Используйте этот список:\n",
        "> ['aba', 12321, 'aaccdccaa']\n",
        "\n",
        "Вывод:\n",
        "\n",
        "> True"
      ]
    },
    {
      "cell_type": "code",
      "metadata": {
        "id": "vhSiaHXwP_Oi"
      },
      "source": [
        "line = ['aba', 12321, 'aaccdccaa']\r\n",
        "a = True\r\n",
        "for i in line:\r\n",
        "    b = list(str(i))\r\n",
        "    c = list(str(i))\r\n",
        "    b.reverse\r\n",
        "    if b != c:\r\n",
        "        a = False\r\n",
        "print(a)"
      ],
      "execution_count": null,
      "outputs": []
    },
    {
      "cell_type": "markdown",
      "metadata": {
        "id": "79WnNaTjP_Oi"
      },
      "source": [
        "## Задание 2\n",
        "\n",
        "Напишите функцию str_lower(), которая принимает на вход строку (набор слов через пробел), а возвращает список ее элементов в нижнем регистре.\n",
        "\n",
        "Пример:\n",
        "\n",
        "Входные данные:\n",
        "\n",
        "> \"В лесу родилась ёлочка В лесу она росла\"\n",
        "\n",
        "Выходные данные:\n",
        "\n",
        "> ['в', 'лесу', 'родилась', 'ёлочка', 'в', 'лесу', 'она', 'росла']"
      ]
    },
    {
      "cell_type": "code",
      "metadata": {
        "id": "k_TS_TESP_Oi"
      },
      "source": [
        "def str_lower(line):\r\n",
        "    a = line\r\n",
        "    b = 0\r\n",
        "    c = list(line)\r\n",
        "    for i in line:\r\n",
        "        if i.isupper():\r\n",
        "            c[b] = c[b].lower()\r\n",
        "        b = b + 1\r\n",
        "    return(''.join(c).split(\" \"))"
      ],
      "execution_count": null,
      "outputs": []
    },
    {
      "cell_type": "markdown",
      "metadata": {
        "id": "0LEUXWwwP_Oj"
      },
      "source": [
        "## Задание 3\n",
        "\n",
        "Напишите функцию my_log(), которая принимает на вход список чисел, и возвращает список их натуральных логарифмов. Если число меньше или равно 0, на его месте в возвращаемом списке должно быть None.\n",
        "\n",
        "Пример:\n",
        "\n",
        "Входные данные:\n",
        "\n",
        "> [1, 3, 2.5, -1, 9, 0, 2.71]\n",
        "\n",
        "Выходные данные:\n",
        "\n",
        "> [0.0, 1.0986122886681098, 0.9162907318741551, None, 2.1972245773362196, None, 0.9969486348916096]"
      ]
    },
    {
      "cell_type": "code",
      "metadata": {
        "id": "D5TgqVV0P_Oj"
      },
      "source": [
        "import math\r\n",
        "def my_log(line):\r\n",
        "    a = line\r\n",
        "    b = 0\r\n",
        "    for i in line:\r\n",
        "        if i > 0:\r\n",
        "           a[b] = math.log(a[b])\r\n",
        "        else:\r\n",
        "           a[b] = None\r\n",
        "        b = b + 1\r\n",
        "    return(a)"
      ],
      "execution_count": null,
      "outputs": []
    },
    {
      "cell_type": "markdown",
      "metadata": {
        "id": "piV91gynP_Oj"
      },
      "source": [
        "## Задание 4\n",
        "\n",
        "Вова очень любит путешествовать. Ради удобства в своих путешествиях по миру, он решил написать программу, которая могла бы перевести имя человека в формат, подходящий для этой страны.\n",
        "\n",
        "Пока что Вова хочет сделать эту программу работающей для двух стран. Это Япония и Германия. Программа принимает на ввод фамилию, пол и страну, в которую человек едет. Выводит приветствие с корректным для этой страны обращением по формату в примере.\n",
        "\n",
        "Для Германии - \"герр\" (для мужчин) и \"фрау\" (для женщин).\n",
        "\n",
        "Для Японии вне зависимости от пола - постфикс \"-сан\".\n",
        "\n",
        "Обратите внимание, что название страны в выводе меняет окончание (но в обоих случаях, это \"я\" -> \"ю\")\n",
        "\n",
        "Тест 1\n",
        "\n",
        "Пример ввода\n",
        "\n",
        "> Соколов\n",
        "> М Япония\n",
        "\n",
        "Вывод\n",
        "\n",
        "> Если вы едете в Японию, вас будут называть Соколов-сан.\n",
        "\n",
        "Тест 2\n",
        "\n",
        "Пример ввода\n",
        "\n",
        "> Иванова\n",
        "> Ж Германия\n",
        "\n",
        "Вывод\n",
        "\n",
        "> Если вы едете в Германию, вас будут называть фрау Иванова."
      ]
    },
    {
      "cell_type": "code",
      "metadata": {
        "id": "DZM1-7bEP_Oj"
      },
      "source": [
        "line = input()\r\n",
        "line = line.split(\" \")\r\n",
        "print(line[1])\r\n",
        "if line[2] == \"Германия\":\r\n",
        "    if line[1] == \"М\":\r\n",
        "        print(\"Если вы едете в Германию, вас будут называть Herr \" + line[0])\r\n",
        "    else:\r\n",
        "        print(\"Если вы едете в Германию, вас будут называть Frau \" + line[0])\r\n",
        "else:\r\n",
        "    print(\"Если вы едете в Японию, вас будут называть \" + line[0] + \"-san\")"
      ],
      "execution_count": null,
      "outputs": []
    },
    {
      "cell_type": "markdown",
      "metadata": {
        "id": "4T8TJD91P_Ok"
      },
      "source": [
        "## Задание 5\n",
        "\n",
        "[Магический квадрат Ло Шу](https://ru.wikipedia.org/wiki/%D0%9C%D0%B0%D0%B3%D0%B8%D1%87%D0%B5%D1%81%D0%BA%D0%B8%D0%B9_%D0%BA%D0%B2%D0%B0%D0%B4%D1%80%D0%B0%D1%82#%D0%9A%D0%B2%D0%B0%D0%B4%D1%80%D0%B0%D1%82_%D0%9B%D0%BE_%D0%A8%D1%83) представляет собой таблицу с 3 строками и 3 столбцами. Магический квадрат Ло Шу имеет приведенные ниже свойства:\n",
        "- таблица содержит числа строго от 1 до 9;\n",
        "- сумма каждой строки, каждого столбца и каждой диагонали в итоге составляет одно и то же число (сумма по всем направлениям 15, сумма всех чисел в квадрате - 45).\n",
        "\n",
        "Сгенерируйте матрицу 3x3 и проверьте, что она является Магическим квадратом Ло Шу."
      ]
    },
    {
      "cell_type": "code",
      "metadata": {
        "id": "ihfi31pBP_Ok"
      },
      "source": [
        "# здесь решение"
      ],
      "execution_count": null,
      "outputs": []
    },
    {
      "cell_type": "markdown",
      "metadata": {
        "id": "XPF9HBjaP_Ok"
      },
      "source": [
        "## Задание 6\n",
        "\n",
        "В приведенном тексте (переменная text):\n",
        "\n",
        "- определите количество слов;\n",
        "- сколько слов начинаются на букву с;\n",
        "- определите среднюю длину слов в тексте;\n",
        "- создайте новый текст, где все слова будут перевернуты."
      ]
    },
    {
      "cell_type": "code",
      "metadata": {
        "id": "lBJyzclEP_Ok"
      },
      "source": [
        "text1 = \"\"\"Потонула деревня в ухабинах\n",
        "Заслонили избенки леса\n",
        "Только видно на кочках и впадинах\n",
        "Как синеют кругом небеса\n",
        "\n",
        "Воют в сумерки долгие зимние\n",
        "Волки грозные с тощих полей\n",
        "По дворам в погорающем инее\n",
        "Над застрехами храп лошадей\"\"\"\n",
        "testext1 = text1.split(\" \")\n",
        "testtext2 = testext1\n",
        "testtext3 = []\n",
        "b = 0\n",
        "for i in testext1:\n",
        "    testtext2[b] = testtext2[b].split(\"\\n\")\n",
        "    b = b + 1\n",
        "for i in testtext2:\n",
        "    for j in i:\n",
        "        if len(j)>0:\n",
        "            testtext3.append(j)\n",
        "print(testtext3)\n",
        "\n",
        "b = 0\n",
        "for i in testtext3:\n",
        "    if i[0] == \"с\":\n",
        "         b = b + 1\n",
        "print(b)\n",
        "\n",
        "b = 0\n",
        "for i in testtext3:\n",
        "    b = b + len(i)\n",
        "print(b/len(testtext3))\n",
        "\n",
        "b = 0\n",
        "a = None\n",
        "testtext4 = testtext3\n",
        "for i in testtext3:\n",
        "    a = list(i)\n",
        "    a.reverse()\n",
        "    testtext4[b] = ''.join(a)\n",
        "    b = b + 1\n",
        "print(testtext4)"
      ],
      "execution_count": null,
      "outputs": []
    },
    {
      "cell_type": "markdown",
      "metadata": {
        "id": "D9U_X1RnP_Ok"
      },
      "source": [
        "## Задание 7\n",
        "\n",
        "Напишите программу-игру. Компьютер загадывает случайное число, пользователь пытается его угадать. Пользователь вводит число несколько раз (количество попыток ограничено и указывается в программе), пока не угадает или не введёт слово \"Выход\". Компьютер сравнивает число с введенным и сообщает пользователю больше оно или меньше загаданного."
      ]
    },
    {
      "cell_type": "code",
      "metadata": {
        "id": "b4VxuzRiP_Ol"
      },
      "source": [
        "import random\r\n",
        "numb = random.randint(0,10)\r\n",
        "tries = random.randint(2,10)\r\n",
        "b = None\r\n",
        "print(\"Всего попыток:\")\r\n",
        "print(tries)\r\n",
        "b = input()\r\n",
        "while(tries > 0 and b != numb and b != \"Выход\"):\r\n",
        "    b = int(b)\r\n",
        "    if b > numb:\r\n",
        "        print(\"Больше\")\r\n",
        "    elif b < numb:\r\n",
        "        print(\"Меньше\")\r\n",
        "    b = input()\r\n",
        "    tries = tries - 1\r\n",
        "    print(\"Осталось попыток:\")\r\n",
        "    print(tries)\r\n",
        "if b == numb:\r\n",
        "    print(\"Угадал!\")"
      ],
      "execution_count": null,
      "outputs": []
    },
    {
      "cell_type": "code",
      "metadata": {
        "id": "R_cQT3WZP_Ol"
      },
      "source": [
        ""
      ],
      "execution_count": null,
      "outputs": []
    }
  ]
}