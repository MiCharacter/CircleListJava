{
  "nbformat": 4,
  "nbformat_minor": 0,
  "metadata": {
    "kernelspec": {
      "display_name": "Python 3",
      "language": "python",
      "name": "python3"
    },
    "language_info": {
      "codemirror_mode": {
        "name": "ipython",
        "version": 3
      },
      "file_extension": ".py",
      "mimetype": "text/x-python",
      "name": "python",
      "nbconvert_exporter": "python",
      "pygments_lexer": "ipython3",
      "version": "3.8.3"
    },
    "colab": {
      "name": "task_04.ipynb",
      "provenance": []
    }
  },
  "cells": [
    {
      "cell_type": "markdown",
      "metadata": {
        "id": "SSQtUdaE_E6u"
      },
      "source": [
        "# Задания для самостоятельного выполнения (блок 4, строковые методы, списки, графики)"
      ]
    },
    {
      "cell_type": "markdown",
      "metadata": {
        "id": "ybnPiSC3_E61"
      },
      "source": [
        "<a href=\"https://colab.research.google.com/github/dm-fedorov/python_basic/blob/master/task_04.ipynb\" target=\"_blank\"><img align=\"left\" src=\"https://colab.research.google.com/assets/colab-badge.svg\" alt=\"Open in Colab\" title=\"Open and Execute in Google Colaboratory\"></a>"
      ]
    },
    {
      "cell_type": "markdown",
      "metadata": {
        "id": "jOeVy_Ns_E61"
      },
      "source": [
        "## Задание 1\n",
        "\n",
        "Дан список станций метро:\n",
        "\n",
        "    line = [\"Автово\", \"Кировский завод\", \"Нарвская\", \"Балтийская\",  \"Технологический институт 1\", \"Пушкинская\", \"Владимирская\", \"Площадь Восстания\"]\n",
        "\n",
        "Предположим, что движение происходит от `Автово` до `Площади Восстания`.\n",
        "\n",
        "Напишите программу, которая запрашивает у пользователя название текущей станции метро и выводит на экран сообщение вида:\n",
        "\n",
        "    Следующая станция: станция\n",
        "    \n",
        "Считайте, что пользователь знает, какая станция конечная, и не будет запрашивать станцию, следующую после `Площади Восстания`.\n",
        "\n",
        "**Пример**\n",
        "\n",
        "    Входные данные:\n",
        "\n",
        "    Введите текущую станцию: Балтийская\n",
        "\n",
        "    Выходные данные:\n",
        "\n",
        "    Следующая станция: Технологический институт 1"
      ]
    },
    {
      "cell_type": "code",
      "metadata": {
        "id": "4no_DRIT_E62"
      },
      "source": [
        "line = [\"Автово\", \"Кировский завод\", \"Нарвская\", \"Балтийская\",  \"Технологический институт 1\", \"Пушкинская\", \"Владимирская\", \"Площадь Восстания\"]\r\n",
        "b = input()\r\n",
        "c = 0\r\n",
        "for i in line:\r\n",
        "    c = c + 1\r\n",
        "    if i == b:\r\n",
        "        print(line[c])"
      ],
      "execution_count": null,
      "outputs": []
    },
    {
      "cell_type": "markdown",
      "metadata": {
        "id": "vwKGtJ3u_E62"
      },
      "source": [
        "## Задание 2\n",
        "\n",
        "Задан список слов. Необходимо выбрать из него случайное. Из выбранного случайного слова случайно выбрать букву и попросить пользователя ее угадать.\n",
        "\n",
        "    Задан список слов: [‘самовар’, ‘весна’, ‘лето’]\n",
        "    Выбираем случайное слово: ‘весна’\n",
        "    Выбираем случайную букву: ‘с’\n",
        "    Выводим на экран: ве?на\n",
        "    Пользователь пытается угадать букву.\n",
        "\n",
        "Пример выполнения программы:\n",
        "```\n",
        ">>> \n",
        "самова?\n",
        "Введите букву:н\n",
        "Увы! Попробуйте в другой раз.\n",
        "Слово: самовар\n",
        ">>> \n",
        "л?то\n",
        "Введите букву:е\n",
        "Победа!\n",
        "Слово: лето\n",
        ">>> \n",
        "```\n"
      ]
    },
    {
      "cell_type": "code",
      "metadata": {
        "id": "TFNDCHAt_E62"
      },
      "source": [
        "import random\r\n",
        "line = [\"Автово\", \"Кировский завод\", \"Нарвская\", \"Балтийская\",  \"Технологический институт\", \"Пушкинская\", \"Владимирская\", \"Площадь Восстания\"]\r\n",
        "a = line[random.randint(0,len(line))]\r\n",
        "b = random.randint(0,len(a))\r\n",
        "c = list(a)\r\n",
        "d = c[b]\r\n",
        "c[b] = \"?\"\r\n",
        "e = ''.join(c)\r\n",
        "print(e)\r\n",
        "e = input()\r\n",
        "if e == d:\r\n",
        "    print(\"true\")\r\n",
        "else:\r\n",
        "    print(\"false\")"
      ],
      "execution_count": null,
      "outputs": []
    },
    {
      "cell_type": "markdown",
      "metadata": {
        "id": "gVL_d3FX_E63"
      },
      "source": [
        "## Задание 3\n",
        "\n",
        "Напишите программу, которая запрашивает у пользователя номер мобильного телефона, введенный через дефис, а возвращает номер, записанный без дефисов и пробелов.\n",
        "\n",
        "Входные данные:\n",
        "    \n",
        "    8-900-123-45-67\n",
        "\n",
        "Выходные данные:\n",
        "\n",
        "    89001234567"
      ]
    },
    {
      "cell_type": "code",
      "metadata": {
        "id": "y5fZA1pj_E63"
      },
      "source": [
        "line = list(input())\r\n",
        "b = list()\r\n",
        "for i in line:\r\n",
        "    if i != \"-\":\r\n",
        "        b.append(i)\r\n",
        "print(''.join(b))"
      ],
      "execution_count": null,
      "outputs": []
    },
    {
      "cell_type": "markdown",
      "metadata": {
        "id": "REcfb0y7_E63"
      },
      "source": [
        "## Задание 4\n",
        "\n",
        "Вручную постройте линейный график температуры в Санкт-Петербурге. Добавьте заголовок, описательные метки на оси, сетку.\n",
        "\n",
        "PS. позже мы научимся собирать данные автоматически."
      ]
    },
    {
      "cell_type": "code",
      "metadata": {
        "id": "cCtR24kF_E64"
      },
      "source": [
        "import matplotlib.pyplot as plt\r\n",
        "x = [1, 2, 3, 4, 5, 6, 7]\r\n",
        "y = [0, -1, -1, -2, -1, -1, 0]\r\n",
        "\r\n",
        "plt.title(\"Температура по дням\")\r\n",
        "\r\n",
        "plt.xlabel(\"Дни\")\r\n",
        "plt.ylabel(\"Температура\")\r\n",
        "\r\n",
        "plt.plot(x, y)"
      ],
      "execution_count": null,
      "outputs": []
    },
    {
      "cell_type": "markdown",
      "metadata": {
        "id": "qwlLk5Ex_E64"
      },
      "source": [
        "## Задание 5\n",
        "\n",
        "С помощью модуля wikipedia определите, сколько ссылок на вики-странице о России."
      ]
    },
    {
      "cell_type": "code",
      "metadata": {
        "id": "GOdXoHqm_E64"
      },
      "source": [
        "!pip3 install wikipedia\r\n",
        "import wikipedia\r\n",
        "wikipedia.set_lang(\"ru\")\r\n",
        "page = wikipedia.page(\"Russia\") \r\n",
        "len(page.links)"
      ],
      "execution_count": null,
      "outputs": []
    },
    {
      "cell_type": "markdown",
      "metadata": {
        "id": "r1Gv9sBT_E64"
      },
      "source": [
        "## Задание 6\n",
        "\n",
        "Пользователь вводит с клавиатуры целые числа: \n",
        "       \n",
        "       num\n",
        "       k\n",
        "       p\n",
        "\n",
        "1) Определите, сколько раз в числе num встречается число `k`. \n",
        "2) Замените все значения `k` на `p`. Преобразуйте результат в целое число.\n",
        "3) Преобразуйте полученное на шаге два число в список и, если длина списка больше `4`, то вставьте во вторую позицию списка значение `5`, а в конец списка значение `6`. Преобразуйте результат в целое число."
      ]
    },
    {
      "cell_type": "code",
      "metadata": {
        "id": "y5i8jv0J_E65"
      },
      "source": [
        "num = list(input())\r\n",
        "k = input()\r\n",
        "p = input()\r\n",
        "a = 0\r\n",
        "b = 0\r\n",
        "for i in num:\r\n",
        "    if i == k:\r\n",
        "        a = a + 1\r\n",
        "        num[b] = p\r\n",
        "    b = b + 1\r\n",
        "\r\n",
        "print(a)\r\n",
        "print(''.join(num))"
      ],
      "execution_count": null,
      "outputs": []
    }
  ]
}